{
 "cells": [
  {
   "cell_type": "markdown",
   "metadata": {},
   "source": [
    "內建 # import 工具\n",
    "工具名稱.方法\n",
    "\n",
    "list的實體裡面有一個叫append\n"
   ]
  },
  {
   "cell_type": "code",
   "execution_count": 4,
   "metadata": {},
   "outputs": [
    {
     "data": {
      "text/plain": [
       "[53, 76, 87, 89, 72]"
      ]
     },
     "execution_count": 4,
     "metadata": {},
     "output_type": "execute_result"
    }
   ],
   "source": [
    "# Lesson002\n",
    "import random\n",
    "random.randint(50,100) # 傳出50~100隨機的亂數\n",
    "\n",
    "stu = list() #line_1\n",
    "for _ in range(5): #line_2\n",
    "# for i in range(5):\n",
    "    # stu[i] = random.randint(50, 100)\n",
    "    stu.append(random.randint(50, 100)) #line_3\n",
    "stu #line_4\n"
   ]
  },
  {
   "cell_type": "code",
   "execution_count": 22,
   "metadata": {},
   "outputs": [
    {
     "data": {
      "text/plain": [
       "[[81, 55, 93, 52, 52],\n",
       " [69, 89, 92, 58, 66],\n",
       " [98, 81, 73, 82, 80],\n",
       " [79, 94, 97, 63, 100],\n",
       " [81, 54, 59, 98, 80],\n",
       " [83, 91, 65, 93, 74],\n",
       " [91, 59, 79, 85, 87],\n",
       " [55, 63, 98, 78, 88],\n",
       " [52, 99, 58, 94, 56],\n",
       " [56, 95, 69, 55, 76],\n",
       " [55, 92, 97, 100, 68],\n",
       " [79, 52, 58, 58, 63],\n",
       " [81, 66, 98, 65, 87],\n",
       " [63, 62, 56, 66, 77],\n",
       " [66, 73, 89, 95, 93],\n",
       " [69, 98, 90, 60, 86],\n",
       " [87, 85, 94, 73, 60],\n",
       " [55, 54, 58, 66, 95],\n",
       " [57, 70, 71, 83, 79],\n",
       " [67, 71, 96, 99, 87],\n",
       " [53, 70, 90, 83, 68],\n",
       " [67, 55, 83, 88, 81],\n",
       " [91, 100, 89, 94, 98],\n",
       " [55, 52, 87, 62, 92],\n",
       " [59, 62, 66, 83, 55],\n",
       " [94, 78, 100, 50, 56],\n",
       " [70, 89, 73, 66, 62],\n",
       " [59, 60, 55, 79, 87],\n",
       " [53, 55, 68, 92, 73],\n",
       " [55, 70, 72, 54, 93],\n",
       " [88, 95, 61, 91, 83],\n",
       " [94, 51, 52, 71, 77],\n",
       " [98, 98, 100, 97, 96],\n",
       " [55, 96, 86, 66, 66],\n",
       " [96, 75, 80, 93, 90],\n",
       " [88, 70, 90, 96, 60],\n",
       " [73, 50, 79, 97, 79],\n",
       " [93, 91, 73, 64, 62],\n",
       " [76, 70, 89, 88, 80],\n",
       " [90, 70, 65, 90, 76],\n",
       " [81, 98, 90, 55, 51],\n",
       " [97, 50, 98, 79, 89],\n",
       " [52, 91, 99, 98, 89],\n",
       " [95, 86, 57, 60, 72],\n",
       " [52, 63, 87, 99, 59],\n",
       " [95, 65, 59, 89, 72],\n",
       " [87, 57, 93, 60, 88],\n",
       " [92, 92, 66, 59, 59],\n",
       " [100, 76, 58, 86, 60],\n",
       " [70, 73, 69, 91, 77]]"
      ]
     },
     "execution_count": 22,
     "metadata": {},
     "output_type": "execute_result"
    }
   ],
   "source": [
    "# \n",
    "students = []\n",
    "for _ in range(50): # 建立50個學生的資料，每個學生第二層for建立\n",
    "    # 加入上一節的for --> 每個學生亂數產生各5個分數\n",
    "    stu = list() #line_1\n",
    "    for _ in range(5): #line_2\n",
    "        stu.append(random.randint(50, 100)) #line_3\n",
    "    students.append(stu) # 把每個學生的各5個分數加入  #line_4\n",
    "students #line_4"
   ]
  },
  {
   "cell_type": "markdown",
   "metadata": {},
   "source": [
    "build-in function:\n",
    "print(~, ~, ~, file=none, ~)\n",
    "sys.stdout\n",
    "sys.stdin\n",
    "\n",
    "google:\n",
    "python print to file\n",
    "用內建的function\n",
    "\n",
    "open(file, ~, !, encoding=none,~)\n",
    "open\n",
    "# build in function 找 print\n",
    "print (text, file=file)"
   ]
  },
  {
   "cell_type": "markdown",
   "metadata": {},
   "source": [
    "The type of file object returned by the open() function depends on the mode. "
   ]
  },
  {
   "cell_type": "code",
   "execution_count": 23,
   "metadata": {},
   "outputs": [],
   "source": [
    "text = '''testing save中文\n",
    "1.python存檔\n",
    "2.某些字要用utf8編碼'''\n",
    "\n",
    "Ofile = open ('newFile.txt',mode='w',encoding='utf-8') # or encoding=\"utf-8\"\n",
    "print(text, file=Ofile)\n",
    "Ofile.close()\n"
   ]
  },
  {
   "cell_type": "markdown",
   "metadata": {},
   "source": [
    "# mode is an optional string that specifies the mode in which the file is opened. It defaults to 'r' which means open for reading in text mode. Other common values are 'w' for writing (truncating the file if it already exists),"
   ]
  },
  {
   "cell_type": "code",
   "execution_count": 29,
   "metadata": {},
   "outputs": [
    {
     "data": {
      "text/plain": [
       "_io.TextIOWrapper"
      ]
     },
     "execution_count": 29,
     "metadata": {},
     "output_type": "execute_result"
    }
   ],
   "source": [
    "Ofile1 = open('newFile002.txt',mode='w',encoding='utf-8')\n",
    "Ofile1.write(\"這是line1\\n\")\n",
    "Ofile1.write(\"這是line2\\n\")\n",
    "Ofile1.writelines(\"\"\"這是line3\n",
    "這是line4\n",
    "這是line5                                    \n",
    "\"\"\")\n",
    "Ofile1.close()\n",
    "type(Ofile1)"
   ]
  },
  {
   "cell_type": "code",
   "execution_count": 30,
   "metadata": {},
   "outputs": [
    {
     "name": "stdout",
     "output_type": "stream",
     "text": [
      "這是line1\n",
      "這是line2\n",
      "這是line3\n",
      "這是line4\n",
      "這是line5                                    \n",
      "\n"
     ]
    },
    {
     "data": {
      "text/plain": [
       "'這是line1\\n這是line2\\n這是line3\\n這是line4\\n這是line5                                    \\n'"
      ]
     },
     "execution_count": 30,
     "metadata": {},
     "output_type": "execute_result"
    }
   ],
   "source": [
    "Rfile = open('newFile002.txt',mode='r',encoding='utf-8')\n",
    "all_text = Rfile.read()\n",
    "print(all_text)\n",
    "all_text #字串不是資料結構\n"
   ]
  },
  {
   "cell_type": "markdown",
   "metadata": {},
   "source": [
    "# csv.writer(csvfile, dialect='excel', **fmtparams)\n",
    "Return a writer object responsible for converting the user’s data into delimited strings on the given file-like object. csvfile can be any object with a write() method. If csvfile is a file object, \n",
    "# it should be opened with newline='' \n",
    "\n",
    "csvwriter.xxx writer的物件:\n",
    "csvwriter.writerow(row)\n",
    "csvwriter.writerows(rows)"
   ]
  },
  {
   "cell_type": "code",
   "execution_count": 31,
   "metadata": {},
   "outputs": [],
   "source": [
    "# csv工具箱\n",
    "# 下面有.writer()\n",
    "# newline = ''\n",
    "import csv\n",
    "OfileCSV = open('newFile003.csv',newline = '',mode='w',encoding='utf-8')\n",
    "WCSV = csv.writer(OfileCSV) # writer的實體\n",
    "WCSV.writerow(['Math','Mand','Sci','Soc','Eng']) # 利用 wirter的實體.方法\n",
    "WCSV.writerows(students) # 利用 writer的實體.方法\n",
    "OfileCSV.close()\n",
    "\n"
   ]
  }
 ],
 "metadata": {
  "kernelspec": {
   "display_name": "Python 3",
   "language": "python",
   "name": "python3"
  },
  "language_info": {
   "codemirror_mode": {
    "name": "ipython",
    "version": 3
   },
   "file_extension": ".py",
   "mimetype": "text/x-python",
   "name": "python",
   "nbconvert_exporter": "python",
   "pygments_lexer": "ipython3",
   "version": "3.11.3"
  },
  "orig_nbformat": 4
 },
 "nbformat": 4,
 "nbformat_minor": 2
}
