{
 "cells": [
  {
   "cell_type": "markdown",
   "metadata": {},
   "source": [
    "內建 # import 工具\n",
    "工具名稱.方法\n",
    "\n",
    "list的實體裡面有一個叫append\n"
   ]
  },
  {
   "cell_type": "code",
   "execution_count": 4,
   "metadata": {},
   "outputs": [
    {
     "data": {
      "text/plain": [
       "[53, 76, 87, 89, 72]"
      ]
     },
     "execution_count": 4,
     "metadata": {},
     "output_type": "execute_result"
    }
   ],
   "source": [
    "# Lesson002\n",
    "import random\n",
    "random.randint(50,100) # 傳出50~100隨機的亂數\n",
    "\n",
    "stu = list() #line_1\n",
    "for _ in range(5): #line_2\n",
    "# for i in range(5):\n",
    "    # stu[i] = random.randint(50, 100)\n",
    "    stu.append(random.randint(50, 100)) #line_3\n",
    "stu #line_4\n"
   ]
  },
  {
   "cell_type": "code",
   "execution_count": 6,
   "metadata": {},
   "outputs": [
    {
     "data": {
      "text/plain": [
       "[[65, 93, 75, 65, 52],\n",
       " [53, 86, 88, 62, 67],\n",
       " [70, 98, 88, 52, 63],\n",
       " [100, 55, 95, 66, 71],\n",
       " [56, 87, 78, 77, 70],\n",
       " [86, 84, 71, 72, 71],\n",
       " [81, 54, 74, 99, 81],\n",
       " [62, 92, 58, 90, 81],\n",
       " [86, 87, 80, 75, 76],\n",
       " [74, 70, 55, 92, 79],\n",
       " [91, 74, 94, 59, 81],\n",
       " [88, 82, 62, 85, 85],\n",
       " [56, 76, 65, 83, 54],\n",
       " [58, 54, 78, 66, 76],\n",
       " [58, 84, 84, 88, 84],\n",
       " [77, 61, 88, 72, 74],\n",
       " [83, 78, 92, 87, 96],\n",
       " [50, 81, 92, 69, 69],\n",
       " [89, 69, 51, 50, 61],\n",
       " [62, 76, 87, 85, 83],\n",
       " [82, 71, 56, 91, 58],\n",
       " [83, 77, 82, 64, 99],\n",
       " [56, 92, 97, 52, 72],\n",
       " [87, 98, 98, 80, 96],\n",
       " [66, 74, 76, 57, 100],\n",
       " [54, 79, 68, 57, 65],\n",
       " [71, 76, 75, 96, 67],\n",
       " [67, 78, 51, 61, 96],\n",
       " [80, 88, 63, 99, 86],\n",
       " [56, 100, 65, 72, 95],\n",
       " [64, 100, 82, 95, 98],\n",
       " [69, 85, 81, 68, 98],\n",
       " [82, 90, 65, 61, 83],\n",
       " [73, 98, 53, 72, 84],\n",
       " [89, 52, 53, 94, 92],\n",
       " [75, 83, 85, 85, 80],\n",
       " [69, 78, 69, 73, 89],\n",
       " [68, 77, 86, 99, 56],\n",
       " [78, 56, 88, 83, 97],\n",
       " [59, 72, 56, 80, 88],\n",
       " [66, 62, 62, 85, 96],\n",
       " [63, 60, 57, 62, 87],\n",
       " [64, 76, 97, 65, 89],\n",
       " [61, 68, 86, 73, 99],\n",
       " [58, 70, 67, 99, 64],\n",
       " [85, 99, 56, 98, 88],\n",
       " [57, 94, 52, 63, 80],\n",
       " [87, 71, 79, 60, 86],\n",
       " [87, 72, 58, 90, 86],\n",
       " [51, 83, 61, 76, 81]]"
      ]
     },
     "execution_count": 6,
     "metadata": {},
     "output_type": "execute_result"
    }
   ],
   "source": [
    "# \n",
    "students = []\n",
    "for _ in range(50): # 建立50個學生的資料，每個學生第二層for建立\n",
    "    # 加入上一節的for --> 每個學生亂數產生各5個分數\n",
    "    stu = list() #line_1\n",
    "    for _ in range(5): #line_2\n",
    "        stu.append(random.randint(50, 100)) #line_3\n",
    "    students.append(stu) # 把每個學生的各5個分數加入  #line_4\n",
    "students #line_4"
   ]
  }
 ],
 "metadata": {
  "kernelspec": {
   "display_name": "Python 3",
   "language": "python",
   "name": "python3"
  },
  "language_info": {
   "codemirror_mode": {
    "name": "ipython",
    "version": 3
   },
   "file_extension": ".py",
   "mimetype": "text/x-python",
   "name": "python",
   "nbconvert_exporter": "python",
   "pygments_lexer": "ipython3",
   "version": "3.10.8"
  },
  "orig_nbformat": 4
 },
 "nbformat": 4,
 "nbformat_minor": 2
}
